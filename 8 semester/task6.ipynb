{
 "cells": [
  {
   "cell_type": "code",
   "execution_count": 16,
   "metadata": {},
   "outputs": [],
   "source": [
    "import numpy as np\n",
    "from pprint import pprint"
   ]
  },
  {
   "cell_type": "code",
   "execution_count": 30,
   "metadata": {},
   "outputs": [],
   "source": [
    "def get_p(M, v):\n",
    "    return np.linalg.solve(M, v)\n",
    "\n",
    "def get_matrix(k):\n",
    "    M = [[1] * (k + 1)]\n",
    "    \n",
    "    for i in range(k):\n",
    "        line = [0] * (k + 1)\n",
    "        line[i], line[i + 1] = i + 1, -(i + 1)\n",
    "        if i > 2:\n",
    "            line[i - 3] = -1\n",
    "        \n",
    "        M.append(line)\n",
    "    return M"
   ]
  },
  {
   "cell_type": "code",
   "execution_count": 31,
   "metadata": {},
   "outputs": [],
   "source": [
    "k = 5\n",
    "m = 3\n",
    "lambd = 5\n",
    "mu = 5 \n",
    "alpha = lambd / mu"
   ]
  },
  {
   "cell_type": "code",
   "execution_count": 32,
   "metadata": {},
   "outputs": [
    {
     "name": "stdout",
     "output_type": "stream",
     "text": [
      "Стационарные вероятности состояний системы:\n",
      "[0.18867925 0.18867925 0.18867925 0.18867925 0.14150943 0.10377358]\n"
     ]
    }
   ],
   "source": [
    "M = get_matrix(k)\n",
    "v = [1] + [0] * k\n",
    "\n",
    "p = get_p(M, v)\n",
    "print('Стационарные вероятности состояний системы:')\n",
    "print(p)"
   ]
  },
  {
   "cell_type": "code",
   "execution_count": 33,
   "metadata": {},
   "outputs": [
    {
     "name": "stdout",
     "output_type": "stream",
     "text": [
      "Вероятность потери информации: 0.26100628930817615\n",
      "М.о. числа каналов, занятых обслуживанеим: 2.2169811320754715\n",
      "Коэффициент загрузки вычислительной машины: 0.4433962264150943\n",
      "Коэффициент простоя каналов обработки информации: 0.5566037735849056\n"
     ]
    }
   ],
   "source": [
    "# а) вероятность потери информации\n",
    "h_ = sum([n * p[n] for n in range(k + 1)])\n",
    "p_otk = 1 - h_ / (alpha * m)\n",
    "print('Вероятность потери информации:', p_otk)\n",
    "\n",
    "\n",
    "# б) математическое ожидание числа каналов, занятых обработкой информации \n",
    "print('М.о. числа каналов, занятых обслуживанеим:', h_)\n",
    "\n",
    "\n",
    "# в) коэффициент загрузки вычислительной машины \n",
    "print('Коэффициент загрузки вычислительной машины:', h_ / k)\n",
    "\n",
    "\n",
    "# г) коэффициент простоя каналов обработки информации\n",
    "print('Коэффициент простоя каналов обработки информации:', 1 - h_ / k)"
   ]
  },
  {
   "cell_type": "code",
   "execution_count": 34,
   "metadata": {},
   "outputs": [
    {
     "name": "stdout",
     "output_type": "stream",
     "text": [
      "Вероятность потери информации при 6 каналах равна 0.1759530791788858\n",
      "\n",
      "Вероятность потери информации при 7 каналах равна 0.11468381564844599\n",
      "\n",
      "Вероятность потери информации при 8 каналах равна 0.07162818061479648\n",
      "\n",
      "Вероятность потери информации при 9 каналах равна 0.042817546008315666\n",
      "\n"
     ]
    }
   ],
   "source": [
    "# Определить, сколько каналов обработки информации должна иметь вычислительная машина,\n",
    "# чтобы вероятность потери информации была не более 5%\n",
    "\n",
    "while p_otk >= 0.05:\n",
    "    k += 1\n",
    "    M = get_matrix(k)\n",
    "    v = [1] + [0] * k\n",
    "    \n",
    "    p = get_p(M, v)\n",
    "    \n",
    "    h_ = sum([n * p[n] for n in range(k + 1)])\n",
    "    p_otk = 1 - h_ / (alpha * m)\n",
    "    print(f'Вероятность потери информации при {k} каналах равна {p_otk}\\n')\n",
    "    \n",
    "    "
   ]
  },
  {
   "cell_type": "code",
   "execution_count": null,
   "metadata": {},
   "outputs": [],
   "source": []
  }
 ],
 "metadata": {
  "kernelspec": {
   "display_name": "Python 3",
   "language": "python",
   "name": "python3"
  },
  "language_info": {
   "codemirror_mode": {
    "name": "ipython",
    "version": 3
   },
   "file_extension": ".py",
   "mimetype": "text/x-python",
   "name": "python",
   "nbconvert_exporter": "python",
   "pygments_lexer": "ipython3",
   "version": "3.7.4"
  }
 },
 "nbformat": 4,
 "nbformat_minor": 4
}
