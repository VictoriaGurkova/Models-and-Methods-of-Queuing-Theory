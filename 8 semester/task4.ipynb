{
 "cells": [
  {
   "cell_type": "code",
   "execution_count": 75,
   "metadata": {},
   "outputs": [],
   "source": [
    "from math import factorial\n",
    "import numpy as np"
   ]
  },
  {
   "cell_type": "code",
   "execution_count": 76,
   "metadata": {},
   "outputs": [],
   "source": [
    "k = 4\n",
    "lambda_ = (1 / 2) * 10\n",
    "mu = 1 * 2\n",
    "\n",
    "t_wait = 2\n",
    "q_v = 1 / t_wait\n",
    "\n",
    "alpha = lambda_ / mu\n",
    "beta = q_v / mu"
   ]
  },
  {
   "cell_type": "code",
   "execution_count": 77,
   "metadata": {},
   "outputs": [],
   "source": [
    "def get_p_ks(s, alpha, beta, k, p_0):\n",
    "    numerator = np.prod([alpha + m for m in range(k)]) * (alpha ** s)\n",
    "    denominator = np.prod([k + r * beta for r in range(1, s)]) * factorial(k)\n",
    "    return (numerator / denominator) * p_0"
   ]
  },
  {
   "cell_type": "code",
   "execution_count": 79,
   "metadata": {},
   "outputs": [],
   "source": [
    "prod1 = np.prod([alpha + m for m in range(1, k + 1)]) / factorial(k)\n",
    "prod2 = np.prod([alpha + m for m in range(k)]) / factorial(k)\n",
    "summa = sum([alpha ** s / np.prod([k + r * beta for r in range(1, s + 1)]) for s in range(1, 150)])\n",
    "\n",
    "p_0 = 1 / (prod1 + prod2 * summa)"
   ]
  },
  {
   "cell_type": "code",
   "execution_count": 80,
   "metadata": {},
   "outputs": [
    {
     "name": "stdout",
     "output_type": "stream",
     "text": [
      "Вероятность того, что 0 самосвалов возьмут бетон из замеса: 0.028813309123173925\n",
      "Вероятность того, что 1 самосвалов возьмут бетон из замеса: 0.07203327280793481\n",
      "Вероятность того, что 2 самосвалов возьмут бетон из замеса: 0.12605822741388592\n",
      "Вероятность того, что 3 самосвалов возьмут бетон из замеса: 0.18908734112082887\n",
      "Вероятность того, что 4 самосвалов возьмут бетон из замеса: 0.2599950940411397\n",
      "\n",
      "Среднее число самосвалов, которые возьмут бетон из замеса: 3.227443149134899\n",
      "\n",
      "Количество бетона, которое будет израсходовано на свою стройку: 3.450147178765808\n",
      "Количество бетона, отданного другим организациям: 1.549852821234192\n",
      "\n",
      "Вероятность того, что весь бетон будет отдан другим строительным организациям: 0.3099705642468384\n",
      "\n",
      "Доля машин, используемых для перевозки бетона: 0.8068607872837248\n",
      "Доля машин, простаивающих в ожидании загрузки бетона: 0.1931392127162752\n",
      "\n",
      "Вероятность простоя самосвалов: 0.028813309123173925\n",
      "\n"
     ]
    }
   ],
   "source": [
    "# а) вероятность того, что 1, 2 или все самосвалы возьмут бетон из замеса\n",
    "p = [np.prod([alpha + m for m in range(n)]) / factorial(n) * p_0 for n in range(k + 1)]\n",
    "\n",
    "[print(f'Вероятность того, что {i} самосвалов возьмут бетон из замеса: {p[i]}') for i in range (k + 1)]\n",
    "print()\n",
    "\n",
    "# б) среднее число самосвалов, которые возьмут бетон из замеса \n",
    "h = sum([n * p[n] for n in range(k + 1)]) + k * (1 - sum([p[n] for n in range(k + 1)]))\n",
    "print(f'Среднее число самосвалов, которые возьмут бетон из замеса: {h}')\n",
    "print()\n",
    "\n",
    "# в) количество бетона, которое будет израсходовано на свою стройку, и количество бетона, отданного другим организациям \n",
    "b = sum([s * get_p_ks(s, alpha, beta, k, p_0) for s in range(1, 150)])\n",
    "p_otk = b * (beta / alpha)\n",
    "print(f'Количество бетона, которое будет израсходовано на свою стройку: {lambda_ * (1 - p_otk)}')\n",
    "print(f'Количество бетона, отданного другим организациям: {lambda_ * p_otk}')\n",
    "print()\n",
    "\n",
    "# г) вероятность того, что весь бетон будет отдан другим строительным организациям \n",
    "print(f'Вероятность того, что весь бетон будет отдан другим строительным организациям: {p_otk}')\n",
    "print()\n",
    "\n",
    "# д) долю машин стройки, используемых для перевозки бетона, и долю машин, простаивающих в ожидании загрузки бетона \n",
    "print(f'Доля машин, используемых для перевозки бетона: {h / k}')\n",
    "print(f'Доля машин, простаивающих в ожидании загрузки бетона: {(k - h) / k}')\n",
    "print()\n",
    "\n",
    "# е) вероятность простоя самосвалов\n",
    "print(f'Вероятность простоя самосвалов: {p[0]}')\n",
    "print()"
   ]
  },
  {
   "cell_type": "code",
   "execution_count": null,
   "metadata": {},
   "outputs": [],
   "source": []
  }
 ],
 "metadata": {
  "kernelspec": {
   "display_name": "Python 3",
   "language": "python",
   "name": "python3"
  },
  "language_info": {
   "codemirror_mode": {
    "name": "ipython",
    "version": 3
   },
   "file_extension": ".py",
   "mimetype": "text/x-python",
   "name": "python",
   "nbconvert_exporter": "python",
   "pygments_lexer": "ipython3",
   "version": "3.7.4"
  }
 },
 "nbformat": 4,
 "nbformat_minor": 4
}
