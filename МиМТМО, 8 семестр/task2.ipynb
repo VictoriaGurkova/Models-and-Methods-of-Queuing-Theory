{
 "cells": [
  {
   "cell_type": "code",
   "execution_count": 1,
   "metadata": {},
   "outputs": [],
   "source": [
    "import numpy as np\n",
    "from math import exp, factorial"
   ]
  },
  {
   "cell_type": "code",
   "execution_count": 5,
   "metadata": {},
   "outputs": [],
   "source": [
    "def product(k, s, beta):\n",
    "    temp = 1\n",
    "    for m in range(1, s + 1):\n",
    "        temp *= (k + m * beta)\n",
    "    return temp"
   ]
  },
  {
   "cell_type": "code",
   "execution_count": 2,
   "metadata": {},
   "outputs": [],
   "source": [
    "def get_p_0(k, alpha, beta, B):\n",
    "    temp1 = sum([alpha ** n / factorial(n) for n in range(0, k + 1)])\n",
    "    temp2 = alpha ** k / factorial(k)\n",
    "    temp3 = sum([alpha ** s / product(k, s, beta) for s in range(1, B + 1)])\n",
    "    return 1 / (temp1 + temp2 * temp3)"
   ]
  },
  {
   "cell_type": "code",
   "execution_count": 3,
   "metadata": {},
   "outputs": [],
   "source": [
    "def get_p_n(n, alpha, p_0):\n",
    "    return (alpha ** n / factorial(n)) * p_0"
   ]
  },
  {
   "cell_type": "code",
   "execution_count": 4,
   "metadata": {},
   "outputs": [],
   "source": [
    "def get_p_ks(k, s, alpha, beta, p_0):\n",
    "    temp = (alpha ** (k + s)) / (factorial(k) * product(k, s, beta))\n",
    "    return temp * p_0"
   ]
  },
  {
   "cell_type": "code",
   "execution_count": 10,
   "metadata": {},
   "outputs": [
    {
     "name": "stdout",
     "output_type": "stream",
     "text": [
      "Вероятность того, что все бригады будут сидеть без дела из-за отсутствия овощей: 0.2605629904259677\n",
      "Вероятность того, что привезенные овощи не будут своевременно обработаны: 0.07746377510751597\n",
      "Среднее число бригад, занятых обработкой овощей: 1.1531702811156048\n",
      "Доля простаивающих бригад: 0.4234148594421976\n",
      "Доля бригад, занятых обработкой: 0.5765851405578024\n"
     ]
    }
   ],
   "source": [
    "v = 1\n",
    "lambda_ = 5\n",
    "mu = 4\n",
    "k = 2\n",
    "B = 5\n",
    "\n",
    "alpha = lambda_ / mu\n",
    "beta = v / mu\n",
    "\n",
    "# а) вероятность того, что все бригады будут сидеть без дела из-за отсутствия овощей;\n",
    "p_0 = get_p_0(k, alpha, beta, B)\n",
    "\n",
    "print('Вероятность того, что все бригады будут сидеть без дела из-за отсутствия овощей:', p_0)\n",
    "\n",
    "# б) вероятность того, что привезенные овощи не будут своевременно обработаны;\n",
    "p_otk = (alpha - k + sum([(k - n) * get_p_n(n, alpha, p_0) for n in range(0, k + 1)])) / alpha\n",
    "\n",
    "print('Вероятность того, что привезенные овощи не будут своевременно обработаны:', p_otk)\n",
    "\n",
    "# в) среднее число бригад, занятых обработкой овощей;\n",
    "h = sum([n * get_p_n(n, alpha, p_0) for n in range(1, k + 1)]) + \\\n",
    "    k * sum([get_p_ks(k, s, alpha, beta, p_0) for s in range(1, B + 1)])\n",
    "\n",
    "print('Среднее число бригад, занятых обработкой овощей:', h)\n",
    "\n",
    "# г) доля бригад, простаивающих или занятых обработкой овощей;\n",
    "g = k - h\n",
    "k_g = g / k\n",
    "k_w = 1 - k_g\n",
    "\n",
    "print('Доля простаивающих бригад:', k_g)\n",
    "print('Доля бригад, занятых обработкой:', k_w)\n",
    "\n",
    "# д.1) среднее число тонн овощей, обработанных за сутки;\n",
    "\n",
    "\n",
    "# д.2) среднее число тонн овощей, потерянных за сутки;\n",
    "    \n",
    "# е) среднее число тонн овощей, ожидающих обработки;\n",
    "\n",
    "# необходимое количество бригад, чтобы потери привезенных овощей составляли не более 10 %."
   ]
  }
 ],
 "metadata": {
  "kernelspec": {
   "display_name": "Python 3",
   "language": "python",
   "name": "python3"
  },
  "language_info": {
   "codemirror_mode": {
    "name": "ipython",
    "version": 3
   },
   "file_extension": ".py",
   "mimetype": "text/x-python",
   "name": "python",
   "nbconvert_exporter": "python",
   "pygments_lexer": "ipython3",
   "version": "3.7.4"
  }
 },
 "nbformat": 4,
 "nbformat_minor": 2
}
