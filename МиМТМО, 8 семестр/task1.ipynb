{
 "cells": [
  {
   "cell_type": "code",
   "execution_count": 1,
   "metadata": {},
   "outputs": [],
   "source": [
    "import numpy as np\n",
    "from math import exp, factorial"
   ]
  },
  {
   "cell_type": "code",
   "execution_count": 2,
   "metadata": {},
   "outputs": [],
   "source": [
    "def get_r(alpha, beta):\n",
    "    e = .00000001\n",
    "    r = 1\n",
    "    while ((alpha / beta) ** r / factorial(r - 1)) * exp(alpha / beta) > e:\n",
    "        r += 1\n",
    "    return r"
   ]
  },
  {
   "cell_type": "code",
   "execution_count": 3,
   "metadata": {},
   "outputs": [],
   "source": [
    "def product(k, s, beta):\n",
    "    temp = 1\n",
    "    for m in range(1, s + 1):\n",
    "        temp *= (k + m * beta)\n",
    "    return temp"
   ]
  },
  {
   "cell_type": "code",
   "execution_count": 4,
   "metadata": {},
   "outputs": [],
   "source": [
    "def get_p_0(k, alpha, beta, r):\n",
    "    temp1 = sum([alpha ** n / factorial(n) for n in range(0, k + 1)])\n",
    "    temp2 = alpha ** k / factorial(k)\n",
    "    temp3 = sum([alpha ** s / product(k, s, beta) for s in range(1, r + 1)])\n",
    "    return 1 / (temp1 + temp2 * temp3)"
   ]
  },
  {
   "cell_type": "code",
   "execution_count": 5,
   "metadata": {},
   "outputs": [],
   "source": [
    "def get_p_n(n, alpha, p_0):\n",
    "    return (alpha ** n / factorial(n)) * p_0"
   ]
  },
  {
   "cell_type": "code",
   "execution_count": 6,
   "metadata": {},
   "outputs": [],
   "source": [
    "def get_p_ks(k, s, alpha, beta, p_0):\n",
    "    temp = (alpha ** (k + s)) / (factorial(k) * product(k, s, beta))\n",
    "    return temp * p_0"
   ]
  },
  {
   "cell_type": "code",
   "execution_count": 9,
   "metadata": {},
   "outputs": [
    {
     "name": "stdout",
     "output_type": "stream",
     "text": [
      "Доля времени, когда все ЭВМ свободны от проведения расчетов: 2.748205326503576e-07\n",
      "Доля времени, когда одна из ЭВМ будет занята расчетом, а другие свободны: 2.748205326503576e-06\n",
      "Вероятность того, что все ЭВМ будут работать одновременно, и не поступило новых данных для проведения расчетов: 1.374102663251788e-05\n",
      "Вероятность отказа поступившим заказам на проведение метеорологических расчетов: 0.8000003297846394\n",
      "Среднее число заказов, ожидающих проведения метеорологических расчетов: 16.00000659569279\n",
      "Среднее число заказов, находящихся в вычислительном центре: 18.000003297846398\n",
      "Доля ЭВМ, простаивающих в вычислительном центре: 1.648923195651797e-06\n",
      "Чтобы вероятность отказа поступившим заказам на проведение метеорологических расчетов не превышала 0.1, необходимо 11 ЭВМ.\n"
     ]
    }
   ],
   "source": [
    "v = 0.1\n",
    "lambda_ = 2\n",
    "mu = 0.2\n",
    "k = 2\n",
    "\n",
    "alpha = lambda_ / mu\n",
    "beta = v / mu\n",
    "\n",
    "r = get_r(alpha, beta)\n",
    "\n",
    "# а) доля времени, когда все ЭВМ свободны от проведения расчетов;\n",
    "p_0 = get_p_0(k, alpha, beta, r)\n",
    "\n",
    "print(\"Доля времени, когда все ЭВМ свободны от проведения расчетов:\", p_0)\n",
    "    \n",
    "# б) доля времени, когда одна из ЭВМ будет занята расчетом, а другие свободны;\n",
    "n = 1\n",
    "p_n = get_p_n(n, alpha, p_0)\n",
    "\n",
    "print(\"Доля времени, когда одна из ЭВМ будет занята расчетом, а другие свободны:\", p_n)\n",
    "\n",
    "# в) вероятность того, что все ЭВМ будут работать одновременно, и не поступило новых данных для проведения расчетов;\n",
    "p_k = get_p_n(k, alpha, p_0)\n",
    "\n",
    "print(\"Вероятность того, что все ЭВМ будут работать одновременно, \" + \n",
    "      \"и не поступило новых данных для проведения расчетов:\", p_k)\n",
    "\n",
    "# г) вероятность отказа поступившим заказам;\n",
    "b = sum([s * get_p_ks(k, s, alpha, beta, p_0) for s in range(1, r + 1)])\n",
    "p_otk = b * (beta / alpha)\n",
    "\n",
    "print(\"Вероятность отказа поступившим заказам на проведение метеорологических расчетов:\", p_otk)\n",
    "\n",
    "# д) среднее число заказов, находящихся в вычисл. центре и ожидающих проведения метеор. расчетов;\n",
    "h = sum([n * get_p_n(n, alpha, p_0) for n in range(1, k + 1)]) + \\\n",
    "    k * sum([get_p_ks(k, s, alpha, beta, p_0) for s in range(1, r + 1)])\n",
    "\n",
    "print(\"Среднее число заказов, ожидающих проведения метеорологических расчетов:\", b)\n",
    "print(\"Среднее число заказов, находящихся в вычислительном центре:\", b + h)\n",
    "\n",
    "# е) доля ЭВМ, простаивающих в вычислительном центре.\n",
    "g = k - h\n",
    "k_g = g / k\n",
    "\n",
    "print(\"Доля ЭВМ, простаивающих в вычислительном центре:\", k_g)\n",
    "\n",
    "# число ЭВМ, необходимое, чтобы вероятность отказа поступившим заказам \n",
    "# на проведение метеорологических расчетов не превышала 0,1.\n",
    "required_prob = .1\n",
    "while p_otk >= required_prob:\n",
    "    k += 1\n",
    "    p_0 = get_p_0(k, alpha, beta, r)\n",
    "    b = sum([s * get_p_ks(k, s, alpha, beta, p_0) for s in range(1, r + 1)])\n",
    "    p_otk = b * (beta / alpha)\n",
    "\n",
    "print(\"Чтобы вероятность отказа поступившим заказам на проведение метеорологических расчетов не превышала 0.1, \"\n",
    "        f\"необходимо {k} ЭВМ.\")"
   ]
  }
 ],
 "metadata": {
  "kernelspec": {
   "display_name": "Python 3",
   "language": "python",
   "name": "python3"
  },
  "language_info": {
   "codemirror_mode": {
    "name": "ipython",
    "version": 3
   },
   "file_extension": ".py",
   "mimetype": "text/x-python",
   "name": "python",
   "nbconvert_exporter": "python",
   "pygments_lexer": "ipython3",
   "version": "3.7.4"
  }
 },
 "nbformat": 4,
 "nbformat_minor": 2
}
