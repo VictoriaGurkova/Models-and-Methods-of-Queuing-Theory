{
 "cells": [
  {
   "cell_type": "code",
   "execution_count": 1,
   "metadata": {},
   "outputs": [],
   "source": [
    "import numpy as np\n",
    "import matplotlib.pyplot as plt\n",
    "from math import factorial, fabs\n",
    "np.set_printoptions(precision=6)"
   ]
  },
  {
   "cell_type": "code",
   "execution_count": 2,
   "metadata": {},
   "outputs": [],
   "source": [
    "# вариант 1\n",
    "\n",
    "L = 6\n",
    "R = 8\n",
    "Q = 5\n",
    "\n",
    "Theta = np.array([\n",
    "    [0, 0.4, 0, 0, 0.6, 0, 0],\n",
    "    [0, 0, 0.7, 0, 0, 0, 0.3],\n",
    "    [0, 0, 0, 0.5, 0, 0.5, 0],\n",
    "    [0, 0, 0.2, 0, 0.8, 0, 0],\n",
    "    [0, 0.6, 0, 0, 0, 0.4, 0],\n",
    "    [0, 0, 0, 0.3, 0, 0, 0.7],\n",
    "    [1, 0, 0, 0, 0, 0, 0]\n",
    "])\n",
    "\n",
    "lambda0 = 1\n",
    "mu = [1.3, 1.2, 1.5, 1.1, 1.8, 2]\n",
    "k = [1, 1, 1, 1, 1, 1]\n",
    "\n",
    "\n"
   ]
  },
  {
   "cell_type": "code",
   "execution_count": 3,
   "metadata": {},
   "outputs": [
    {
     "name": "stdout",
     "output_type": "stream",
     "text": [
      "[0.143725 0.161108 0.134392 0.108078 0.172697 0.136275 0.143725] 0.9999999999999989\n"
     ]
    }
   ],
   "source": [
    "def get_omega(L, Theta):\n",
    "    omega = np.array([1 / (L + 1) for _ in range(L + 1)])\n",
    "    for _ in range(100000):\n",
    "        omega = omega.dot(Theta)\n",
    "    return omega  \n",
    "\n",
    "omega = get_omega(L, Theta)\n",
    "print(omega, sum(omega))"
   ]
  },
  {
   "cell_type": "code",
   "execution_count": 4,
   "metadata": {},
   "outputs": [],
   "source": [
    "def get_lambdas(L, lambda0, Theta):\n",
    "    omega = get_omega(L, Theta)\n",
    "    lambdas = [0] * L\n",
    "    for i in range(1, len(omega)):\n",
    "        lambdas[i - 1] = lambda0 * (omega[i] / omega[0])\n",
    "    return lambdas\n",
    "\n",
    "def get_tau(L, k, mu, lambda0, Theta, omega):\n",
    "        lambdas = get_lambdas(L, lambda0, Theta) \n",
    "        \n",
    "        psy = [0] * L\n",
    "        for i in range(len(psy)):\n",
    "            psy[i] = lambdas[i] / (k[i] * mu[i])\n",
    "        \n",
    "        P0 = [0] * L\n",
    "        b = [0] * L\n",
    "        h = [0] * L\n",
    "        n = [0] * L\n",
    "        u = [0] * L\n",
    "        tau = 0\n",
    "\n",
    "        for i in range(len(P0)):\n",
    "            summa = 0\n",
    "            for j in range(k[i]):\n",
    "                summa += (k[i] * psy[i])**j / factorial(j)\n",
    "            P0[i] = ((((k[i] * psy[i])**k[i]) / \n",
    "                          (factorial(k[i]) * (1 - psy[i])) ) + summa)**(-1)\n",
    "            b[i] = P0[i] * (((k[i]**k[i]) * (psy[i]**(k[i] + 1))) / \n",
    "                                (factorial(k[i]) * ((1 - psy[i])**2)))\n",
    "            h[i] = psy[i] * k[i]\n",
    "            n[i] = b[i] + h[i]\n",
    "            u[i] = n[i] / lambdas[i]\n",
    "            tau += lambdas[i] * u[i]\n",
    "\n",
    "        tau = (1 / lambda0) * tau\n",
    "        return tau"
   ]
  },
  {
   "cell_type": "markdown",
   "metadata": {},
   "source": [
    "\n",
    "## A) Вектор интенсивностей обслуживания задается произвольно. Необходимо подобрать такую маршрутную матрицу (при сохранении топологии), чтобы время реакции было минимальным:"
   ]
  },
  {
   "cell_type": "code",
   "execution_count": null,
   "metadata": {},
   "outputs": [
    {
     "name": "stdout",
     "output_type": "stream",
     "text": [
      "10.846872141209827\n",
      "9.852954270454898\n",
      "1.3473338624011504\n",
      "1.201722854759145\n",
      "0.7350806929547749\n",
      "0.09849229403727389\n",
      "0.09080164242041222\n",
      "0.061628946978876\n",
      "0.05703765754355894\n",
      "0.012122614289082456\n",
      "0.010918150980942842\n"
     ]
    }
   ],
   "source": [
    "theta = np.zeros((L + 1, L + 1))\n",
    "tau = float('inf')\n",
    "\n",
    "enumeration = np.arange(0.1, 1, 0.15)\n",
    "for s0 in enumeration:\n",
    "    for s1 in enumeration:\n",
    "        for s2 in enumeration:\n",
    "            for s3 in enumeration:\n",
    "                for s4 in enumeration:\n",
    "                    for s5 in enumeration:\n",
    "                        theta[0][1], theta[0][4] = s0, 1 - s0\n",
    "                        theta[1][2], theta[1][6] = s1, 1 - s1\n",
    "                        theta[2][3], theta[2][5] = s2, 1 - s2\n",
    "                        theta[3][2], theta[3][4] = s3, 1 - s3\n",
    "                        theta[4][1], theta[4][5] = s4, 1 - s4\n",
    "                        theta[5][3], theta[5][6] = s5, 1 - s5\n",
    "                        theta[6][0] = 1\n",
    "#                         print(theta, '\\n')\n",
    "                        n_tau = get_tau(L, k, mu, lambda0, theta, omega)\n",
    "                        if tau > n_tau and n_tau >= 0:\n",
    "                            tau = n_tau\n",
    "                            print(tau)\n",
    "                            min_theta = theta.copy()\n",
    "\n",
    "print('*' * 100)\n",
    "print('Минимальное время реакции: ', tau)\n",
    "print('при маршрутной матрице вида:\\n', min_theta)"
   ]
  },
  {
   "cell_type": "markdown",
   "metadata": {},
   "source": [
    "## Б) Маршрутная матрица задается произвольно. Необходимо подобрать такой вектор интенсивностей обслуживания mu, чтобы сумма всех его компонент была минимальной, а пропускная способность сети была равна максимальной:"
   ]
  },
  {
   "cell_type": "code",
   "execution_count": 48,
   "metadata": {},
   "outputs": [
    {
     "name": "stdout",
     "output_type": "stream",
     "text": [
      "Вектор интенсивностей обслуживания\n",
      " [1.1300000000000008, 0.9400000000000007, 0.7600000000000006, 1.2100000000000009, 0.9500000000000007, 1.0000000000000007]\n",
      "сумма элементов которого равна 5.990000000000005\n",
      "Максимальная пропусная способность сети:  5.957739380849532\n"
     ]
    }
   ],
   "source": [
    "delta = 0.01\n",
    "\n",
    "n_mu = [0.1, 0.1, 0.1, 0.1, 0.1, 0.1]\n",
    "lambdas = get_lambdas(L, lambda0, Theta)\n",
    "for i in range(len(lambdas)):\n",
    "    while lambdas[i] / n_mu[i] >= 1:\n",
    "        n_mu[i] += delta\n",
    "print('Вектор интенсивностей обслуживания\\n', n_mu)\n",
    "print('сумма элементов которого равна', sum(n_mu))\n",
    "print('Максимальная пропусная способность сети: ', sum(lambdas))\n",
    "    "
   ]
  }
 ],
 "metadata": {
  "kernelspec": {
   "display_name": "Python 3",
   "language": "python",
   "name": "python3"
  },
  "language_info": {
   "codemirror_mode": {
    "name": "ipython",
    "version": 3
   },
   "file_extension": ".py",
   "mimetype": "text/x-python",
   "name": "python",
   "nbconvert_exporter": "python",
   "pygments_lexer": "ipython3",
   "version": "3.7.4"
  }
 },
 "nbformat": 4,
 "nbformat_minor": 2
}
