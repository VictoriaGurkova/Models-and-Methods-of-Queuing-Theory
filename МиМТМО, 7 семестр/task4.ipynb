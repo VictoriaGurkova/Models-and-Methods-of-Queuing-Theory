{
 "cells": [
  {
   "cell_type": "code",
   "execution_count": 6,
   "metadata": {},
   "outputs": [
    {
     "name": "stdout",
     "output_type": "stream",
     "text": [
      "alpha = 0.8 beta = 0.6666666666666666\n",
      "p00 = 0.10714285714285711\n",
      "p1 = 0.17857142857142846\n",
      "p_both_busy = 0.7142857142857144\n",
      "p10 = 0.07142857142857141\n",
      "p01 = 0.10714285714285711\n",
      "p_m = 0.4571428571428573\n",
      "n_ = 4.464285714285714\n",
      "b = 2.857142857142857\n",
      "w = 0.2380952380952381\n",
      "u = 0.37202380952380953\n"
     ]
    }
   ],
   "source": [
    "mu1 = 9\n",
    "mu2 = 6\n",
    "lmbd = 12\n",
    "phi = 0.5\n",
    "\n",
    "alpha = lmbd / (mu1 + mu2)\n",
    "beta = mu2 / mu1\n",
    "print(\"alpha =\", alpha, \"beta =\", beta)\n",
    "\n",
    "# а) доля рабочего времени, когда оба продавца будут свободны\n",
    "mem1 = alpha / ((1 + 2 * alpha) * beta)\n",
    "mem2 = (1 + (1 + beta ** 2) * alpha - (1 - beta ** 2) * phi)\n",
    "\n",
    "p00 = (1 - alpha) / (1 + mem1 * mem2)\n",
    "print(\"p00 =\", p00)\n",
    "\n",
    "# доля рабочего времени, когда оба продавца будут заняты\n",
    "p1 = mem1 * (1 + beta) * (1 + (1 + beta) * alpha - (1 - beta) * phi) * p00\n",
    "print(\"p1 =\", p1)\n",
    "\n",
    "p_both_busy = 1 - p00 - p1\n",
    "print(\"p_both_busy =\", p_both_busy)\n",
    "\n",
    "# б) вероятность того, что первый продавец занят, а второй свободен\n",
    "p10 = alpha * (1 + beta) * (alpha + phi) * p00 / (1 + 2 * alpha)\n",
    "print(\"p10 =\", p10)\n",
    "\n",
    "# вероятность того, что первый продавец свободен, а второй занят\n",
    "p01 = mem1 * (1 + beta) * (alpha + 1 - phi) * p00\n",
    "print(\"p01 =\", p01)\n",
    "    \n",
    "# в) вероятность того, что в магазине больше 3-х покупателей\n",
    "m = 3\n",
    "mem3 = (1 + (1 + beta) * alpha - (1 - beta) * phi)\n",
    "mem6 = (alpha * (alpha ** m - 1) * (1 + beta) / ((1 + 2 * alpha) * (alpha - 1) * beta))\n",
    "\n",
    "p_m = 1 - (1 + mem6 * mem3) * p00\n",
    "print(\"p_m =\", p_m)\n",
    "\n",
    "# г) среднее число покупателей в магазине\n",
    "mem4 = alpha * (1 + beta) / (1 - alpha)\n",
    "mem5 = (beta * (1 + 2 * alpha) + alpha * (1 + (1 + beta ** 2) * alpha - (1 - beta ** 2) * phi))\n",
    "\n",
    "n_ = mem4 * (mem3 / mem5)\n",
    "print(\"n_ =\", n_)\n",
    "\n",
    "# д) среднее время ожидания покупателя в очереди\n",
    "h = p1 + 2 * (1 - p00 - p1)\n",
    "\n",
    "b = n_ - h\n",
    "print(\"b =\", b)\n",
    "\n",
    "w = b / lmbd\n",
    "print(\"w =\", w)\n",
    "\n",
    "# е) среднее время пребывания покупателя в магазине\n",
    "u = n_ / lmbd\n",
    "print(\"u =\", u)\n",
    "\n",
    "\n"
   ]
  }
 ],
 "metadata": {
  "kernelspec": {
   "display_name": "Python 3",
   "language": "python",
   "name": "python3"
  },
  "language_info": {
   "codemirror_mode": {
    "name": "ipython",
    "version": 3
   },
   "file_extension": ".py",
   "mimetype": "text/x-python",
   "name": "python",
   "nbconvert_exporter": "python",
   "pygments_lexer": "ipython3",
   "version": "3.7.4"
  }
 },
 "nbformat": 4,
 "nbformat_minor": 2
}
