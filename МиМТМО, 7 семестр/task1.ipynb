{
 "cells": [
  {
   "cell_type": "code",
   "execution_count": 3,
   "metadata": {},
   "outputs": [
    {
     "name": "stdout",
     "output_type": "stream",
     "text": [
      "Средняя продолжительность ожидания в каждой из 3-х очередей равна 0.09968634686346864\n",
      "Среднее время ожидания произвольно выбранного заказа на обслуживание равно 0.09968634686346864\n",
      "Cреднее число заказов, находящихся в 1 -й очереди равно 0.2990590405904059\n",
      "Cреднее число заказов, находящихся в 2 -й очереди равно 0.19937269372693728\n",
      "Cреднее число заказов, находящихся в 3 -й очереди равно 0.04984317343173432\n",
      "Cреднее число заказов, находящихся в 4 -й очереди равно 0.09968634686346864\n",
      "Cреднее число заказов, находящихся в 5 -й очереди равно 0.10965498154981551\n",
      "Средняя длина очереди равна 0.7576162361623617\n",
      "Значение функции стоимости: 1.963821033210332\n"
     ]
    }
   ],
   "source": [
    "# lambdas = [0.2, 0.3, 0.1]\n",
    "# v = [2, 1, 2]\n",
    "# mu = [0, 0, 0]\n",
    "# c = [3, 2, 1]\n",
    "# disp = 0.5\n",
    "\n",
    "N = 5\n",
    "k = 2\n",
    "lambdas = [3, 2, 0.5, 1, 1.1]\n",
    "v = [0.01, 0.1, 0.1, 0.2, 0.15]\n",
    "c = [1, 4, 3, 5, 2]\n",
    "\n",
    "mu = [k / v[i] for i in range(N)]\n",
    "\n",
    "disp = [k / mu[i] ** 2 for i in range(N)]\n",
    "    \n",
    "# второй момент длительности обслуживания\n",
    "alpha_2 = [disp[i] + v[i] ** 2 for i in range(len(lambdas))]\n",
    "\n",
    "sum_lambda_v = sum([lambdas[i] * alpha_2[i] for i in range(len(lambdas))])\n",
    "R_n = sum([lambdas[i] / mu[i] for i in range(len(lambdas))])\n",
    "\n",
    "w = 0.5 * sum_lambda_v / (1 - R_n)\n",
    "print('Средняя продолжительность ожидания в каждой из 3-х очередей равна', w)\n",
    "print('Среднее время ожидания произвольно выбранного заказа на обслуживание равно', w)\n",
    "\n",
    "b = [lambdas[i] * w for i in range(len(lambdas))]\n",
    "for i in range(len(b)):\n",
    "    print('Cреднее число заказов, находящихся в', i + 1, '-й', 'очереди равно', b[i])\n",
    "\n",
    "avrg_queue_len = sum(b)\n",
    "print('Средняя длина очереди равна', avrg_queue_len)\n",
    "\n",
    "cost_function = sum(c[i] * b[i] for i in range(len(c)))\n",
    "print('Значение функции стоимости:', cost_function)"
   ]
  }
 ],
 "metadata": {
  "kernelspec": {
   "display_name": "Python 3",
   "language": "python",
   "name": "python3"
  },
  "language_info": {
   "codemirror_mode": {
    "name": "ipython",
    "version": 3
   },
   "file_extension": ".py",
   "mimetype": "text/x-python",
   "name": "python",
   "nbconvert_exporter": "python",
   "pygments_lexer": "ipython3",
   "version": "3.7.4"
  }
 },
 "nbformat": 4,
 "nbformat_minor": 2
}
