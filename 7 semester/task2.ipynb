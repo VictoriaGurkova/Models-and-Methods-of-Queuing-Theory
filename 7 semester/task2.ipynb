{
 "cells": [
  {
   "cell_type": "code",
   "execution_count": 2,
   "metadata": {},
   "outputs": [
    {
     "name": "stdout",
     "output_type": "stream",
     "text": [
      "R = [0.03, 0.23, 0.28, 0.48000000000000004, 0.645]\n",
      "Средняя продолжительность ожидания в каждой из 3-х очередей w = [0.06962628865979381, 0.09042375150622574, 0.12182088744588744, 0.18038862179487178, 0.3658586132177682]\n",
      "Cреднее время ожидания произвольно выбранного заказа:  0.13598288276963072\n",
      "Cреднее число заказов, находящихся в 1 -й очереди равно 0.20887886597938143\n",
      "Cреднее число заказов, находящихся в 2 -й очереди равно 0.18084750301245148\n",
      "Cреднее число заказов, находящихся в 3 -й очереди равно 0.06091044372294372\n",
      "Cреднее число заказов, находящихся в 4 -й очереди равно 0.18038862179487178\n",
      "Cреднее число заказов, находящихся в 5 -й очереди равно 0.402444474539545\n",
      "Среднее число (по обслуживающей системе) находящихся в очереди заказов: 1.0334699090491934\n",
      "F = 5.131832267251467\n",
      "Скорости извлечения прибором штрафов из СМО:  [100.0, 40.0, 30.0, 25.0, 13.333333333333334]\n"
     ]
    }
   ],
   "source": [
    "# N = [1, 2, 3]\n",
    "# disp = 0.5\n",
    "\n",
    "# # начальные условия\n",
    "# # lambdas = [0.2, 0.3, 0.1]\n",
    "# # v = [2, 1, 2]\n",
    "# # c = [3, 2, 1]\n",
    "\n",
    "# # условия при оптимальном приоритете\n",
    "# lambdas = [0.3, 0.2, 0.1]\n",
    "# v = [1, 2, 2] \n",
    "# c = [2, 3, 1]\n",
    "\n",
    "N = [1, 2, 3, 4, 5]\n",
    "k = 2\n",
    "lambdas = [3, 2, 0.5, 1, 1.1]\n",
    "v = [0.01, 0.1, 0.1, 0.2, 0.15]\n",
    "c = [1, 4, 3, 5, 2]\n",
    "\n",
    "mu = [k / v[i] for i in range(len(N))]\n",
    "\n",
    "disp = [k / mu[i] ** 2 for i in range(len(N))]\n",
    "\n",
    "alpha_2 = [disp[i] + v[i] ** 2 for i in range(len(N))]\n",
    "\n",
    "mu = []\n",
    "for i in range(len(mu)):\n",
    "    mu[i] = 1 / v[i]\n",
    "\n",
    "psi = [lambdas[i] * v[i] for i in range(len(N))]\n",
    "\n",
    "R = []\n",
    "summa = 0\n",
    "for j in range(len(N)):\n",
    "    summa += lambdas[j] * v[j]\n",
    "    R.append(summa)  \n",
    "print(\"R =\", R)\n",
    "\n",
    "delta = [alpha_2[i] / (2 * v[i]) for i in range(len(N))]\n",
    "\n",
    "sigma = sum(psi[i] * delta[i] for i in range(len(N)))\n",
    "\n",
    "w = []\n",
    "for j in range(len(N)):\n",
    "    if j == 0:\n",
    "        w.append((0.5 * sum([lambdas[i] * alpha_2[i] for i in range(len(N))])) / (1 - R[0]))\n",
    "    else:\n",
    "        w.append((0.5 * sum([lambdas[i] * alpha_2[i] for i in range(len(N))])) / ((1 - R[j - 1]) * (1 - R[j])))\n",
    "print(\"Средняя продолжительность ожидания в каждой из 3-х очередей w =\", w)\n",
    "\n",
    "# среднее время ожидания произвольно выбранного заказа\n",
    "w_random = sum([w[i] * lambdas[i] / sum(lambdas) for i in range(len(N))])\n",
    "print(\"Cреднее время ожидания произвольно выбранного заказа: \", w_random)\n",
    "\n",
    "b = [lambdas[i] * w[i] for i in range(len(N))]\n",
    "for i in range(len(b)):\n",
    "    print('Cреднее число заказов, находящихся в', i + 1, '-й', 'очереди равно', b[i])\n",
    "    \n",
    "avg_queue_len = sum(b)\n",
    "print(\"Среднее число (по обслуживающей системе) находящихся в очереди заказов:\", avg_queue_len)\n",
    "\n",
    "F = sum([lambdas[i] * w[i] * c[i] for i in range(len(N))]) + sum([c[i] * psi[i] for i in range(len(N))])\n",
    "print(\"F =\", F)\n",
    "\n",
    "c_div_v = [c[j] / v[j] for j in range(len(N))]\n",
    "print(\"Скорости извлечения прибором штрафов из СМО: \", c_div_v)\n",
    "\n",
    "\n"
   ]
  },
  {
   "cell_type": "code",
   "execution_count": null,
   "metadata": {},
   "outputs": [],
   "source": []
  }
 ],
 "metadata": {
  "kernelspec": {
   "display_name": "Python 3",
   "language": "python",
   "name": "python3"
  },
  "language_info": {
   "codemirror_mode": {
    "name": "ipython",
    "version": 3
   },
   "file_extension": ".py",
   "mimetype": "text/x-python",
   "name": "python",
   "nbconvert_exporter": "python",
   "pygments_lexer": "ipython3",
   "version": "3.7.4"
  }
 },
 "nbformat": 4,
 "nbformat_minor": 2
}
